{
 "cells": [
  {
   "cell_type": "markdown",
   "id": "c0cc2780",
   "metadata": {},
   "source": [
    "## NLTK Library for Quick Revision- All Related functions\n",
    "#### By Piyush Srivastava"
   ]
  },
  {
   "cell_type": "code",
   "execution_count": 33,
   "id": "46b84c1c",
   "metadata": {},
   "outputs": [],
   "source": [
    "# !pip install nltk"
   ]
  },
  {
   "cell_type": "code",
   "execution_count": 34,
   "id": "23a8b5b2",
   "metadata": {},
   "outputs": [],
   "source": [
    "# pip install nbconvert"
   ]
  },
  {
   "cell_type": "code",
   "execution_count": 6,
   "id": "fab072ab",
   "metadata": {},
   "outputs": [
    {
     "name": "stdout",
     "output_type": "stream",
     "text": [
      "Package                            Version\n",
      "---------------------------------- -------------------\n",
      "alabaster                          0.7.12\n",
      "anaconda-client                    1.7.2\n",
      "anaconda-navigator                 2.0.3\n",
      "anaconda-project                   0.9.1\n",
      "anyio                              2.2.0\n",
      "appdirs                            1.4.4\n",
      "argh                               0.26.2\n",
      "argon2-cffi                        20.1.0\n",
      "asn1crypto                         1.4.0\n",
      "astroid                            2.5\n",
      "astropy                            4.2.1\n",
      "async-generator                    1.10\n",
      "atomicwrites                       1.4.0\n",
      "attrs                              20.3.0\n",
      "autopep8                           1.5.6\n",
      "Babel                              2.9.0\n",
      "backcall                           0.2.0\n",
      "backports.functools-lru-cache      1.6.4\n",
      "backports.shutil-get-terminal-size 1.0.0\n",
      "backports.tempfile                 1.0\n",
      "backports.weakref                  1.0.post1\n",
      "bcrypt                             3.2.0\n",
      "beautifulsoup4                     4.10.0\n",
      "bitarray                           1.9.2\n",
      "bkcharts                           0.2\n",
      "black                              19.10b0\n",
      "bleach                             3.3.0\n"
     ]
    }
   ],
   "source": [
    "!pip list"
   ]
  },
  {
   "cell_type": "code",
   "execution_count": 7,
   "id": "c815acc3",
   "metadata": {},
   "outputs": [
    {
     "name": "stdout",
     "output_type": "stream",
     "text": [
      "bokeh                              2.3.2\n",
      "boto                               2.49.0\n",
      "Bottleneck                         1.3.2\n",
      "brotlipy                           0.7.0\n",
      "bs4                                0.0.1\n",
      "certifi                            2020.12.5\n",
      "cffi                               1.14.5\n",
      "chardet                            4.0.0\n",
      "charset-normalizer                 2.0.7\n",
      "click                              7.1.2\n",
      "cloudpickle                        1.6.0\n",
      "clyent                             1.2.2\n",
      "colorama                           0.4.4\n",
      "comtypes                           1.1.9\n",
      "conda                              4.10.3\n",
      "conda-build                        3.21.4\n",
      "conda-content-trust                0+unknown\n",
      "conda-package-handling             1.7.3\n",
      "conda-repo-cli                     1.0.4\n",
      "conda-token                        0.3.0\n",
      "conda-verify                       3.4.2\n",
      "contextlib2                        0.6.0.post1\n",
      "cryptography                       3.4.7\n",
      "cycler                             0.10.0\n",
      "Cython                             0.29.23\n",
      "cytoolz                            0.11.0\n",
      "dask                               2021.4.0\n",
      "decorator                          5.0.6\n",
      "defusedxml                         0.7.1\n",
      "diff-match-patch                   20200713\n",
      "distributed                        2021.4.0\n",
      "docutils                           0.17\n",
      "entrypoints                        0.3\n",
      "et-xmlfile                         1.0.1\n",
      "fastcache                          1.1.0\n",
      "filelock                           3.0.12\n",
      "flake8                             3.9.0\n",
      "Flask                              1.1.2\n",
      "fsspec                             0.9.0\n",
      "future                             0.18.2\n",
      "gevent                             21.1.2\n",
      "glob2                              0.7\n",
      "greenlet                           1.0.0\n",
      "h5py                               2.10.0\n",
      "HeapDict                           1.0.1\n",
      "html5lib                           1.1\n",
      "htmlmin                            0.1.12\n",
      "idna                               2.10\n",
      "imagecodecs                        2021.3.31\n",
      "ImageHash                          4.2.1\n",
      "imageio                            2.9.0\n",
      "imagesize                          1.2.0\n",
      "importlib-metadata                 3.10.0\n",
      "imutils                            0.5.4\n",
      "iniconfig                          1.1.1\n",
      "intervaltree                       3.1.0\n",
      "ipykernel                          5.3.4\n",
      "ipython                            7.22.0\n",
      "ipython-genutils                   0.2.0\n",
      "ipywidgets                         7.6.3\n",
      "isort                              5.8.0\n",
      "itsdangerous                       1.1.0\n",
      "jdcal                              1.4.1\n",
      "jedi                               0.17.2\n",
      "Jinja2                             2.11.3\n",
      "joblib                             1.0.1\n",
      "jovian                             0.2.41\n",
      "json5                              0.9.5\n",
      "jsonschema                         3.2.0\n",
      "jupyter                            1.0.0\n",
      "jupyter-client                     6.1.12\n",
      "jupyter-console                    6.4.0\n",
      "jupyter-core                       4.7.1\n",
      "jupyter-packaging                  0.7.12\n",
      "jupyter-server                     1.4.1\n",
      "jupyterlab                         3.0.14\n",
      "jupyterlab-pygments                0.1.2\n",
      "jupyterlab-server                  2.4.0\n",
      "jupyterlab-widgets                 1.0.0\n",
      "kaggle                             1.5.12\n",
      "keyring                            22.3.0\n",
      "kiwisolver                         1.3.1\n",
      "lazy-object-proxy                  1.6.0\n",
      "libarchive-c                       2.9\n",
      "llvmlite                           0.36.0\n",
      "locket                             0.2.1\n",
      "lxml                               4.6.3\n",
      "MarkupSafe                         2.0.1\n",
      "matplotlib                         3.3.4\n",
      "mccabe                             0.6.1\n",
      "menuinst                           1.4.16\n",
      "missingno                          0.5.0\n",
      "mistune                            0.8.4\n",
      "mkl-fft                            1.3.0\n",
      "mkl-random                         1.2.1\n",
      "mkl-service                        2.3.0\n",
      "mock                               4.0.3\n",
      "more-itertools                     8.7.0\n",
      "mpmath                             1.2.1\n",
      "msgpack                            1.0.2\n",
      "multimethod                        1.6\n",
      "multipledispatch                   0.6.0\n",
      "mypy-extensions                    0.4.3\n",
      "mysql-connector-python             8.0.29\n",
      "navigator-updater                  0.2.1\n",
      "nbclassic                          0.2.6\n",
      "nbclient                           0.5.3\n",
      "nbconvert                          6.0.7\n",
      "nbformat                           5.1.3\n",
      "nest-asyncio                       1.5.1\n",
      "networkx                           2.5\n",
      "nltk                               3.6.1\n",
      "nose                               1.3.7\n",
      "notebook                           6.3.0\n",
      "numba                              0.53.1\n",
      "numexpr                            2.7.3\n",
      "numpy                              1.20.1\n",
      "numpydoc                           1.1.0\n",
      "olefile                            0.46\n",
      "opencv-contrib-python              4.5.4.60\n",
      "opencv-python                      4.5.4.60\n",
      "opendatasets                       0.1.20\n",
      "openpyxl                           3.0.7\n",
      "packaging                          20.9\n",
      "pandas                             1.2.4\n",
      "pandas-profiling                   3.1.0\n",
      "pandocfilters                      1.4.3\n",
      "paramiko                           2.7.2\n",
      "parso                              0.7.0\n",
      "partd                              1.2.0\n",
      "path                               15.1.2\n",
      "pathlib                            1.0.1\n",
      "pathlib2                           2.3.5\n",
      "pathspec                           0.7.0\n",
      "patsy                              0.5.1\n",
      "pep8                               1.7.1\n",
      "pexpect                            4.8.0\n",
      "phik                               0.12.0\n",
      "pickleshare                        0.7.5\n",
      "Pillow                             8.2.0\n",
      "pip                                21.0.1\n",
      "pkginfo                            1.7.0\n",
      "plotly                             5.4.0\n",
      "pluggy                             0.13.1\n",
      "ply                                3.11\n",
      "prometheus-client                  0.10.1\n",
      "prompt-toolkit                     3.0.17\n",
      "psutil                             5.8.0\n",
      "ptyprocess                         0.7.0\n",
      "py                                 1.10.0\n",
      "pycodestyle                        2.6.0\n",
      "pycosat                            0.6.3\n",
      "pycparser                          2.20\n",
      "pycurl                             7.43.0.6\n",
      "pydantic                           1.8.2\n",
      "pydocstyle                         6.0.0\n",
      "pyerfa                             1.7.3\n",
      "pyflakes                           2.2.0\n",
      "Pygments                           2.8.1\n",
      "pylint                             2.7.4\n",
      "pyls-black                         0.4.6\n",
      "pyls-spyder                        0.3.2\n",
      "PyMySQL                            1.0.2\n",
      "PyNaCl                             1.4.0\n",
      "pyodbc                             4.0.0-unsupported\n",
      "pyOpenSSL                          20.0.1\n",
      "pyparsing                          2.4.7\n",
      "pyreadline                         2.1\n",
      "pyrsistent                         0.17.3\n",
      "PySocks                            1.7.1\n",
      "pytest                             6.2.3\n",
      "python-dateutil                    2.8.1\n",
      "python-jsonrpc-server              0.4.0\n",
      "python-language-server             0.36.2\n",
      "python-slugify                     5.0.2\n",
      "pytz                               2021.1\n",
      "PyWavelets                         1.1.1\n",
      "pywin32                            227\n",
      "pywin32-ctypes                     0.2.0\n",
      "pywinpty                           0.5.7\n",
      "PyYAML                             5.4.1\n",
      "pyzmq                              20.0.0\n",
      "QDarkStyle                         2.8.1\n",
      "QtAwesome                          1.0.2\n",
      "qtconsole                          5.0.3\n",
      "QtPy                               1.9.0\n",
      "regex                              2021.4.4\n",
      "requests                           2.26.0\n",
      "rope                               0.18.0\n",
      "Rtree                              0.9.7\n",
      "ruamel-yaml-conda                  0.15.100\n",
      "ruamel.yaml                        0.17.17\n",
      "ruamel.yaml.clib                   0.2.6\n",
      "scikit-image                       0.18.1\n",
      "scikit-learn                       0.24.1\n",
      "scipy                              1.6.2\n",
      "seaborn                            0.11.1\n",
      "Send2Trash                         1.5.0\n",
      "setuptools                         52.0.0.post20210125\n",
      "simplegeneric                      0.8.1\n",
      "singledispatch                     0.0.0\n",
      "sip                                4.19.13\n",
      "six                                1.15.0\n",
      "sniffio                            1.2.0\n",
      "snowballstemmer                    2.1.0\n",
      "sortedcollections                  2.1.0\n",
      "sortedcontainers                   2.3.0\n",
      "soupsieve                          2.2.1\n",
      "Sphinx                             4.0.1\n",
      "sphinxcontrib-applehelp            1.0.2\n",
      "sphinxcontrib-devhelp              1.0.2\n",
      "sphinxcontrib-htmlhelp             1.0.3\n",
      "sphinxcontrib-jsmath               1.0.1\n",
      "sphinxcontrib-qthelp               1.0.3\n",
      "sphinxcontrib-serializinghtml      1.1.4\n",
      "sphinxcontrib-websupport           1.2.4\n",
      "spyder                             4.2.5\n",
      "spyder-kernels                     1.10.2\n",
      "SQLAlchemy                         1.4.7\n",
      "statsmodels                        0.12.2\n",
      "sympy                              1.8\n",
      "tables                             3.6.1\n",
      "tangled-up-in-unicode              0.1.0\n",
      "tblib                              1.7.0\n",
      "tenacity                           8.0.1\n",
      "terminado                          0.9.4\n",
      "testpath                           0.4.4\n",
      "text-unidecode                     1.3\n",
      "textblob                           0.17.1\n",
      "textdistance                       4.2.1\n",
      "threadpoolctl                      2.1.0\n",
      "three-merge                        0.1.1\n",
      "tifffile                           2021.4.8\n",
      "toml                               0.10.2\n",
      "toolz                              0.11.1\n",
      "tornado                            6.1\n",
      "tqdm                               4.59.0\n",
      "traitlets                          5.0.5\n",
      "typed-ast                          1.4.2\n",
      "typing-extensions                  3.7.4.3\n",
      "ujson                              4.0.2\n",
      "unicodecsv                         0.14.1\n",
      "urllib3                            1.26.4\n",
      "uuid                               1.30\n",
      "visions                            0.7.4\n",
      "watchdog                           1.0.2\n",
      "wcwidth                            0.2.5\n",
      "webencodings                       0.5.1\n",
      "Werkzeug                           1.0.1\n",
      "wheel                              0.36.2\n",
      "widgetsnbextension                 3.5.1\n",
      "win-inet-pton                      1.1.0\n",
      "win-unicode-console                0.5\n",
      "wincertstore                       0.2\n",
      "wrapt                              1.12.1\n",
      "xlrd                               2.0.1\n",
      "XlsxWriter                         1.3.8\n",
      "xlwings                            0.23.0\n",
      "xlwt                               1.3.0\n",
      "xmltodict                          0.12.0\n",
      "yapf                               0.31.0\n",
      "zict                               2.0.0\n",
      "zipp                               3.4.1\n",
      "zope.event                         4.5.0\n"
     ]
    },
    {
     "name": "stdout",
     "output_type": "stream",
     "text": [
      "zope.interface                     5.3.0\n"
     ]
    }
   ],
   "source": [
    "import nltk\n",
    "# nltk.download('punkt') # punkt is a trained model on english language"
   ]
  },
  {
   "cell_type": "code",
   "execution_count": 8,
   "id": "158a8a5f",
   "metadata": {},
   "outputs": [],
   "source": [
    "longsent=\"Not just you but every customer or visitor to a website or maybe even a network of websites that share data with each other. A recommender system starts with some sort of data about every user that it can use to figure out that user's individual tastes and interests then it can merge its data about you with the collective behavior of everyone else like you to recommend stuff you might like.\""
   ]
  },
  {
   "cell_type": "code",
   "execution_count": 9,
   "id": "85f4910c",
   "metadata": {},
   "outputs": [
    {
     "data": {
      "text/plain": [
       "['Not just you but every customer or visitor to a website or maybe even a network of websites that share data with each other.',\n",
       " \"A recommender system starts with some sort of data about every user that it can use to figure out that user's individual tastes and interests then it can merge its data about you with the collective behavior of everyone else like you to recommend stuff you might like.\"]"
      ]
     },
     "execution_count": 9,
     "metadata": {},
     "output_type": "execute_result"
    }
   ],
   "source": [
    "# Sent Tokenisation\n",
    "nltk.sent_tokenize(longsent)"
   ]
  },
  {
   "cell_type": "code",
   "execution_count": 10,
   "id": "94026e86",
   "metadata": {},
   "outputs": [
    {
     "data": {
      "text/plain": [
       "2"
      ]
     },
     "execution_count": 10,
     "metadata": {},
     "output_type": "execute_result"
    }
   ],
   "source": [
    "len(nltk.sent_tokenize(longsent))"
   ]
  },
  {
   "cell_type": "code",
   "execution_count": 11,
   "id": "756b0efc",
   "metadata": {},
   "outputs": [
    {
     "data": {
      "text/plain": [
       "['Not',\n",
       " 'just',\n",
       " 'you',\n",
       " 'but',\n",
       " 'every',\n",
       " 'customer',\n",
       " 'or',\n",
       " 'visitor',\n",
       " 'to',\n",
       " 'a',\n",
       " 'website',\n",
       " 'or',\n",
       " 'maybe',\n",
       " 'even',\n",
       " 'a',\n",
       " 'network',\n",
       " 'of',\n",
       " 'websites',\n",
       " 'that',\n",
       " 'share',\n",
       " 'data',\n",
       " 'with',\n",
       " 'each',\n",
       " 'other',\n",
       " '.',\n",
       " 'A',\n",
       " 'recommender',\n",
       " 'system',\n",
       " 'starts',\n",
       " 'with',\n",
       " 'some',\n",
       " 'sort',\n",
       " 'of',\n",
       " 'data',\n",
       " 'about',\n",
       " 'every',\n",
       " 'user',\n",
       " 'that',\n",
       " 'it',\n",
       " 'can',\n",
       " 'use',\n",
       " 'to',\n",
       " 'figure',\n",
       " 'out',\n",
       " 'that',\n",
       " 'user',\n",
       " \"'s\",\n",
       " 'individual',\n",
       " 'tastes',\n",
       " 'and',\n",
       " 'interests',\n",
       " 'then',\n",
       " 'it',\n",
       " 'can',\n",
       " 'merge',\n",
       " 'its',\n",
       " 'data',\n",
       " 'about',\n",
       " 'you',\n",
       " 'with',\n",
       " 'the',\n",
       " 'collective',\n",
       " 'behavior',\n",
       " 'of',\n",
       " 'everyone',\n",
       " 'else',\n",
       " 'like',\n",
       " 'you',\n",
       " 'to',\n",
       " 'recommend',\n",
       " 'stuff',\n",
       " 'you',\n",
       " 'might',\n",
       " 'like',\n",
       " '.']"
      ]
     },
     "execution_count": 11,
     "metadata": {},
     "output_type": "execute_result"
    }
   ],
   "source": [
    "# Word Tokenization\n",
    "wordtoken=nltk.word_tokenize(longsent)\n",
    "wordtoken"
   ]
  },
  {
   "cell_type": "code",
   "execution_count": 12,
   "id": "0e53dcb7",
   "metadata": {},
   "outputs": [
    {
     "data": {
      "text/plain": [
       "75"
      ]
     },
     "execution_count": 12,
     "metadata": {},
     "output_type": "execute_result"
    }
   ],
   "source": [
    "len(nltk.word_tokenize(longsent))"
   ]
  },
  {
   "cell_type": "code",
   "execution_count": 13,
   "id": "31076ff5",
   "metadata": {},
   "outputs": [
    {
     "name": "stderr",
     "output_type": "stream",
     "text": [
      "[nltk_data] Downloading package averaged_perceptron_tagger to\n",
      "[nltk_data]     C:\\Users\\admin\\AppData\\Roaming\\nltk_data...\n",
      "[nltk_data]   Package averaged_perceptron_tagger is already up-to-\n",
      "[nltk_data]       date!\n"
     ]
    },
    {
     "data": {
      "text/plain": [
       "[('we', 'PRP'), ('live', 'VBP'), ('in', 'IN'), ('a', 'DT'), ('city', 'NN')]"
      ]
     },
     "execution_count": 13,
     "metadata": {},
     "output_type": "execute_result"
    }
   ],
   "source": [
    "nltk.download('averaged_perceptron_tagger')\n",
    "newl=\"we live in a city\"\n",
    "types=nltk.word_tokenize(newl)\n",
    "nltk.pos_tag(types)"
   ]
  },
  {
   "cell_type": "code",
   "execution_count": 14,
   "id": "546b0d3d",
   "metadata": {},
   "outputs": [
    {
     "name": "stderr",
     "output_type": "stream",
     "text": [
      "[nltk_data] Downloading package stopwords to\n",
      "[nltk_data]     C:\\Users\\admin\\AppData\\Roaming\\nltk_data...\n",
      "[nltk_data]   Package stopwords is already up-to-date!\n"
     ]
    },
    {
     "data": {
      "text/plain": [
       "True"
      ]
     },
     "execution_count": 14,
     "metadata": {},
     "output_type": "execute_result"
    }
   ],
   "source": [
    "nltk.download('stopwords')"
   ]
  },
  {
   "cell_type": "code",
   "execution_count": 15,
   "id": "9d747952",
   "metadata": {},
   "outputs": [
    {
     "data": {
      "text/plain": [
       "['i',\n",
       " 'me',\n",
       " 'my',\n",
       " 'myself',\n",
       " 'we',\n",
       " 'our',\n",
       " 'ours',\n",
       " 'ourselves',\n",
       " 'you',\n",
       " \"you're\",\n",
       " \"you've\",\n",
       " \"you'll\",\n",
       " \"you'd\",\n",
       " 'your',\n",
       " 'yours',\n",
       " 'yourself',\n",
       " 'yourselves',\n",
       " 'he',\n",
       " 'him',\n",
       " 'his',\n",
       " 'himself',\n",
       " 'she',\n",
       " \"she's\",\n",
       " 'her',\n",
       " 'hers',\n",
       " 'herself',\n",
       " 'it',\n",
       " \"it's\",\n",
       " 'its',\n",
       " 'itself',\n",
       " 'they',\n",
       " 'them',\n",
       " 'their',\n",
       " 'theirs',\n",
       " 'themselves',\n",
       " 'what',\n",
       " 'which',\n",
       " 'who',\n",
       " 'whom',\n",
       " 'this',\n",
       " 'that',\n",
       " \"that'll\",\n",
       " 'these',\n",
       " 'those',\n",
       " 'am',\n",
       " 'is',\n",
       " 'are',\n",
       " 'was',\n",
       " 'were',\n",
       " 'be',\n",
       " 'been',\n",
       " 'being',\n",
       " 'have',\n",
       " 'has',\n",
       " 'had',\n",
       " 'having',\n",
       " 'do',\n",
       " 'does',\n",
       " 'did',\n",
       " 'doing',\n",
       " 'a',\n",
       " 'an',\n",
       " 'the',\n",
       " 'and',\n",
       " 'but',\n",
       " 'if',\n",
       " 'or',\n",
       " 'because',\n",
       " 'as',\n",
       " 'until',\n",
       " 'while',\n",
       " 'of',\n",
       " 'at',\n",
       " 'by',\n",
       " 'for',\n",
       " 'with',\n",
       " 'about',\n",
       " 'against',\n",
       " 'between',\n",
       " 'into',\n",
       " 'through',\n",
       " 'during',\n",
       " 'before',\n",
       " 'after',\n",
       " 'above',\n",
       " 'below',\n",
       " 'to',\n",
       " 'from',\n",
       " 'up',\n",
       " 'down',\n",
       " 'in',\n",
       " 'out',\n",
       " 'on',\n",
       " 'off',\n",
       " 'over',\n",
       " 'under',\n",
       " 'again',\n",
       " 'further',\n",
       " 'then',\n",
       " 'once',\n",
       " 'here',\n",
       " 'there',\n",
       " 'when',\n",
       " 'where',\n",
       " 'why',\n",
       " 'how',\n",
       " 'all',\n",
       " 'any',\n",
       " 'both',\n",
       " 'each',\n",
       " 'few',\n",
       " 'more',\n",
       " 'most',\n",
       " 'other',\n",
       " 'some',\n",
       " 'such',\n",
       " 'no',\n",
       " 'nor',\n",
       " 'not',\n",
       " 'only',\n",
       " 'own',\n",
       " 'same',\n",
       " 'so',\n",
       " 'than',\n",
       " 'too',\n",
       " 'very',\n",
       " 's',\n",
       " 't',\n",
       " 'can',\n",
       " 'will',\n",
       " 'just',\n",
       " 'don',\n",
       " \"don't\",\n",
       " 'should',\n",
       " \"should've\",\n",
       " 'now',\n",
       " 'd',\n",
       " 'll',\n",
       " 'm',\n",
       " 'o',\n",
       " 're',\n",
       " 've',\n",
       " 'y',\n",
       " 'ain',\n",
       " 'aren',\n",
       " \"aren't\",\n",
       " 'couldn',\n",
       " \"couldn't\",\n",
       " 'didn',\n",
       " \"didn't\",\n",
       " 'doesn',\n",
       " \"doesn't\",\n",
       " 'hadn',\n",
       " \"hadn't\",\n",
       " 'hasn',\n",
       " \"hasn't\",\n",
       " 'haven',\n",
       " \"haven't\",\n",
       " 'isn',\n",
       " \"isn't\",\n",
       " 'ma',\n",
       " 'mightn',\n",
       " \"mightn't\",\n",
       " 'mustn',\n",
       " \"mustn't\",\n",
       " 'needn',\n",
       " \"needn't\",\n",
       " 'shan',\n",
       " \"shan't\",\n",
       " 'shouldn',\n",
       " \"shouldn't\",\n",
       " 'wasn',\n",
       " \"wasn't\",\n",
       " 'weren',\n",
       " \"weren't\",\n",
       " 'won',\n",
       " \"won't\",\n",
       " 'wouldn',\n",
       " \"wouldn't\"]"
      ]
     },
     "execution_count": 15,
     "metadata": {},
     "output_type": "execute_result"
    }
   ],
   "source": [
    "from nltk.corpus import stopwords\n",
    "sw=stopwords.words('english')\n",
    "sw"
   ]
  },
  {
   "cell_type": "code",
   "execution_count": 16,
   "id": "8774789e",
   "metadata": {},
   "outputs": [
    {
     "data": {
      "text/plain": [
       "['every',\n",
       " 'customer',\n",
       " 'visitor',\n",
       " 'website',\n",
       " 'maybe',\n",
       " 'even',\n",
       " 'network',\n",
       " 'websites',\n",
       " 'share',\n",
       " 'data',\n",
       " '.',\n",
       " 'recommender',\n",
       " 'system',\n",
       " 'starts',\n",
       " 'sort',\n",
       " 'data',\n",
       " 'every',\n",
       " 'user',\n",
       " 'use',\n",
       " 'figure',\n",
       " 'user',\n",
       " \"'s\",\n",
       " 'individual',\n",
       " 'tastes',\n",
       " 'interests',\n",
       " 'merge',\n",
       " 'data',\n",
       " 'collective',\n",
       " 'behavior',\n",
       " 'everyone',\n",
       " 'else',\n",
       " 'like',\n",
       " 'recommend',\n",
       " 'stuff',\n",
       " 'might',\n",
       " 'like',\n",
       " '.']"
      ]
     },
     "execution_count": 16,
     "metadata": {},
     "output_type": "execute_result"
    }
   ],
   "source": [
    "cleandata=[]\n",
    "for i in nltk.word_tokenize(longsent.lower()):\n",
    "    if i not in sw:\n",
    "        cleandata.append(i)\n",
    "cleandata\n"
   ]
  },
  {
   "cell_type": "code",
   "execution_count": 17,
   "id": "840f0edf",
   "metadata": {},
   "outputs": [
    {
     "data": {
      "text/plain": [
       "'!\"#$%&\\'()*+,-./:;<=>?@[\\\\]^_`{|}~'"
      ]
     },
     "execution_count": 17,
     "metadata": {},
     "output_type": "execute_result"
    }
   ],
   "source": [
    "import string\n",
    "punc=string.punctuation\n",
    "punc"
   ]
  },
  {
   "cell_type": "markdown",
   "id": "51ed0ead",
   "metadata": {},
   "source": [
    "- Step1. lowercase\n",
    "- Step2. word tokenization\n",
    "- Step3. stopwords\n",
    "- Step4. punctuation marks removal\n",
    "- "
   ]
  },
  {
   "cell_type": "code",
   "execution_count": 18,
   "id": "7ce20de3",
   "metadata": {},
   "outputs": [
    {
     "data": {
      "text/plain": [
       "['every',\n",
       " 'customer',\n",
       " 'visitor',\n",
       " 'website',\n",
       " 'maybe',\n",
       " 'even',\n",
       " 'network',\n",
       " 'websites',\n",
       " 'share',\n",
       " 'data',\n",
       " 'recommender',\n",
       " 'system',\n",
       " 'starts',\n",
       " 'sort',\n",
       " 'data',\n",
       " 'every',\n",
       " 'user',\n",
       " 'use',\n",
       " 'figure',\n",
       " 'user',\n",
       " \"'s\",\n",
       " 'individual',\n",
       " 'tastes',\n",
       " 'interests',\n",
       " 'merge',\n",
       " 'data',\n",
       " 'collective',\n",
       " 'behavior',\n",
       " 'everyone',\n",
       " 'else',\n",
       " 'like',\n",
       " 'recommend',\n",
       " 'stuff',\n",
       " 'might',\n",
       " 'like']"
      ]
     },
     "execution_count": 18,
     "metadata": {},
     "output_type": "execute_result"
    }
   ],
   "source": [
    "# cleant data\n",
    "from nltk.corpus import stopwords\n",
    "sw=stopwords.words('english')\n",
    "\n",
    "cleandata=[]\n",
    "for i in nltk.word_tokenize(longsent.lower()):\n",
    "    if i not in punc and i not in sw:\n",
    "        cleandata.append(i)\n",
    "cleandata"
   ]
  },
  {
   "cell_type": "markdown",
   "id": "b6f6ba50",
   "metadata": {},
   "source": [
    "## Stemmer"
   ]
  },
  {
   "cell_type": "code",
   "execution_count": 19,
   "id": "c248e6af",
   "metadata": {},
   "outputs": [],
   "source": [
    "from nltk.stem import PorterStemmer, LancasterStemmer, SnowballStemmer\n",
    "ls=LancasterStemmer()\n",
    "ps=PorterStemmer()\n",
    "ss=SnowballStemmer('english')"
   ]
  },
  {
   "cell_type": "code",
   "execution_count": 20,
   "id": "69ec8d8c",
   "metadata": {},
   "outputs": [
    {
     "name": "stdout",
     "output_type": "stream",
     "text": [
      "Porter Stemmer\n",
      "hobbi\n",
      "hobbi\n",
      "comput\n",
      "comput\n",
      "histori\n",
      "histor\n"
     ]
    }
   ],
   "source": [
    "print('Porter Stemmer')\n",
    "print(ps.stem('hobby'))\n",
    "print(ps.stem('hobbies'))\n",
    "print(ps.stem('computer'))\n",
    "print(ps.stem('computation'))\n",
    "print(ps.stem('history'))\n",
    "print(ps.stem('historical'))"
   ]
  },
  {
   "cell_type": "code",
   "execution_count": 21,
   "id": "3d60b7f8",
   "metadata": {},
   "outputs": [
    {
     "name": "stdout",
     "output_type": "stream",
     "text": [
      "SnowballStemmer\n",
      "hobbi\n",
      "hobbi\n",
      "comput\n",
      "comput\n",
      "histori\n",
      "histor\n"
     ]
    }
   ],
   "source": [
    "print('SnowballStemmer')\n",
    "print(ss.stem('hobby'))\n",
    "print(ss.stem('hobbies'))\n",
    "print(ss.stem('computer'))\n",
    "print(ss.stem('computation'))\n",
    "print(ss.stem('history'))\n",
    "print(ss.stem('historical'))"
   ]
  },
  {
   "cell_type": "code",
   "execution_count": 22,
   "id": "c3b57fa5",
   "metadata": {},
   "outputs": [
    {
     "name": "stdout",
     "output_type": "stream",
     "text": [
      "LancasterStemmer\n",
      "hobby\n",
      "hobby\n",
      "comput\n",
      "comput\n",
      "hist\n",
      "hist\n"
     ]
    }
   ],
   "source": [
    "print('LancasterStemmer')\n",
    "print(ls.stem('hobby'))\n",
    "print(ls.stem('hobbies'))\n",
    "print(ls.stem('computer'))\n",
    "print(ls.stem('computation'))\n",
    "print(ls.stem('history'))\n",
    "print(ls.stem('historical'))"
   ]
  },
  {
   "cell_type": "code",
   "execution_count": 23,
   "id": "3fb04647",
   "metadata": {},
   "outputs": [
    {
     "name": "stdout",
     "output_type": "stream",
     "text": [
      "<LancasterStemmer>\n",
      "i was going to off on my bik when i saw a car and hit the tre\n",
      "<nltk.stem.snowball.SnowballStemmer object at 0x000001DC29BDB550>\n",
      "i was go to offic on my bike when i saw a car and hit the tree\n",
      "<PorterStemmer>\n",
      "i wa go to offic on my bike when i saw a car and hit the tree\n"
     ]
    }
   ],
   "source": [
    "sentence='I was going to office on my bike when i saw a car and hit the tree'\n",
    "token=list(nltk.word_tokenize(sentence))\n",
    "for stemmer in (ls,ss,ps):\n",
    "    print(stemmer)\n",
    "    stemm=[stemmer.stem(t) for t in token]\n",
    "    print(\" \".join(stemm))"
   ]
  },
  {
   "cell_type": "code",
   "execution_count": 24,
   "id": "351ba980",
   "metadata": {},
   "outputs": [
    {
     "name": "stderr",
     "output_type": "stream",
     "text": [
      "[nltk_data] Downloading package wordnet to\n",
      "[nltk_data]     C:\\Users\\admin\\AppData\\Roaming\\nltk_data...\n",
      "[nltk_data]   Package wordnet is already up-to-date!\n"
     ]
    },
    {
     "data": {
      "text/plain": [
       "True"
      ]
     },
     "execution_count": 24,
     "metadata": {},
     "output_type": "execute_result"
    }
   ],
   "source": [
    "nltk.download('wordnet')"
   ]
  },
  {
   "cell_type": "code",
   "execution_count": 25,
   "id": "8d964df2",
   "metadata": {},
   "outputs": [
    {
     "name": "stdout",
     "output_type": "stream",
     "text": [
      "run\n",
      "run\n",
      "run\n"
     ]
    }
   ],
   "source": [
    "from nltk.stem import WordNetLemmatizer\n",
    "lemma=WordNetLemmatizer()\n",
    "print(lemma.lemmatize('run',pos='v'))\n",
    "print(lemma.lemmatize('running',pos='v'))\n",
    "print(lemma.lemmatize('runs',pos='v'))"
   ]
  },
  {
   "cell_type": "code",
   "execution_count": 26,
   "id": "a5a7c92d",
   "metadata": {},
   "outputs": [
    {
     "data": {
      "text/plain": [
       "['every',\n",
       " 'customer',\n",
       " 'visitor',\n",
       " 'website',\n",
       " 'maybe',\n",
       " 'even',\n",
       " 'network',\n",
       " 'websites',\n",
       " 'share',\n",
       " 'data',\n",
       " 'recommender',\n",
       " 'system',\n",
       " 'starts',\n",
       " 'sort',\n",
       " 'data',\n",
       " 'every',\n",
       " 'user',\n",
       " 'use',\n",
       " 'figure',\n",
       " 'user',\n",
       " \"'s\",\n",
       " 'individual',\n",
       " 'tastes',\n",
       " 'interests',\n",
       " 'merge',\n",
       " 'data',\n",
       " 'collective',\n",
       " 'behavior',\n",
       " 'everyone',\n",
       " 'else',\n",
       " 'like',\n",
       " 'recommend',\n",
       " 'stuff',\n",
       " 'might',\n",
       " 'like']"
      ]
     },
     "execution_count": 26,
     "metadata": {},
     "output_type": "execute_result"
    }
   ],
   "source": [
    "# cleant data\n",
    "from nltk.corpus import stopwords\n",
    "sw=stopwords.words('english')\n",
    "\n",
    "cleandata=[]\n",
    "for i in nltk.word_tokenize(longsent.lower()):\n",
    "    if i not in punc and i not in sw:\n",
    "        cleandata.append(i)\n",
    "cleandata"
   ]
  },
  {
   "cell_type": "code",
   "execution_count": 27,
   "id": "829609e7",
   "metadata": {},
   "outputs": [
    {
     "data": {
      "text/plain": [
       "['every',\n",
       " 'customer',\n",
       " 'visitor',\n",
       " 'website',\n",
       " 'maybe',\n",
       " 'even',\n",
       " 'network',\n",
       " 'websites',\n",
       " 'share',\n",
       " 'data',\n",
       " 'recommender',\n",
       " 'system',\n",
       " 'start',\n",
       " 'sort',\n",
       " 'data',\n",
       " 'every',\n",
       " 'user',\n",
       " 'use',\n",
       " 'figure',\n",
       " 'user',\n",
       " \"'s\",\n",
       " 'individual',\n",
       " 'taste',\n",
       " 'interest',\n",
       " 'merge',\n",
       " 'data',\n",
       " 'collective',\n",
       " 'behavior',\n",
       " 'everyone',\n",
       " 'else',\n",
       " 'like',\n",
       " 'recommend',\n",
       " 'stuff',\n",
       " 'might',\n",
       " 'like']"
      ]
     },
     "execution_count": 27,
     "metadata": {},
     "output_type": "execute_result"
    }
   ],
   "source": [
    "[lemma.lemmatize(i, pos='v') for i in cleandata]"
   ]
  },
  {
   "cell_type": "markdown",
   "id": "5c6898d7",
   "metadata": {},
   "source": [
    "## NER(Named Entity Recognition)\n",
    "the process of identifying word or phrase spans in unstructured text (the entity) and classifying them as belonging to a particular class (the entity type)"
   ]
  },
  {
   "cell_type": "code",
   "execution_count": 28,
   "id": "10d9fc3f",
   "metadata": {},
   "outputs": [
    {
     "name": "stderr",
     "output_type": "stream",
     "text": [
      "[nltk_data] Downloading package maxent_ne_chunker to\n",
      "[nltk_data]     C:\\Users\\admin\\AppData\\Roaming\\nltk_data...\n",
      "[nltk_data]   Package maxent_ne_chunker is already up-to-date!\n",
      "[nltk_data] Downloading package words to\n",
      "[nltk_data]     C:\\Users\\admin\\AppData\\Roaming\\nltk_data...\n",
      "[nltk_data]   Package words is already up-to-date!\n"
     ]
    },
    {
     "data": {
      "text/plain": [
       "True"
      ]
     },
     "execution_count": 28,
     "metadata": {},
     "output_type": "execute_result"
    }
   ],
   "source": [
    "import nltk\n",
    "nltk.download('maxent_ne_chunker')\n",
    "nltk.download('words')"
   ]
  },
  {
   "cell_type": "code",
   "execution_count": 29,
   "id": "378662a7",
   "metadata": {},
   "outputs": [
    {
     "name": "stdout",
     "output_type": "stream",
     "text": [
      "(S\n",
      "  I/PRP\n",
      "  was/VBD\n",
      "  going/VBG\n",
      "  east/RB\n",
      "  to/TO\n",
      "  (GPE Amazon/NNP)\n",
      "  office/NN\n",
      "  on/IN\n",
      "  my/PRP$\n",
      "  bike/NN\n",
      "  when/WRB\n",
      "  I/PRP\n",
      "  saw/VBD\n",
      "  a/DT\n",
      "  (GPE Toyota/NNP)\n",
      "  car/NN\n",
      "  and/CC\n",
      "  hit/VBD\n",
      "  the/DT\n",
      "  tree/NN)\n"
     ]
    }
   ],
   "source": [
    "sentence='I was going east to Amazon office on my bike when I saw a Toyota car and hit the tree'\n",
    "words=nltk.word_tokenize(sentence)\n",
    "postag=nltk.pos_tag(words)\n",
    "name_entity=nltk.ne_chunk(postag)\n",
    "print(name_entity)\n",
    "#name_entity.draw()"
   ]
  },
  {
   "cell_type": "markdown",
   "id": "117d8a69",
   "metadata": {},
   "source": [
    "## freq distributor||"
   ]
  },
  {
   "cell_type": "code",
   "execution_count": 30,
   "id": "cd50bb83",
   "metadata": {},
   "outputs": [
    {
     "name": "stdout",
     "output_type": "stream",
     "text": [
      "<FreqDist with 19 samples and 20 outcomes>\n",
      "2\n"
     ]
    }
   ],
   "source": [
    "from nltk import FreqDist\n",
    "words=nltk.word_tokenize(sentence)\n",
    "freq=FreqDist(words)\n",
    "print(freq)\n",
    "print(freq['I'])"
   ]
  },
  {
   "cell_type": "code",
   "execution_count": 31,
   "id": "287ef3df",
   "metadata": {},
   "outputs": [
    {
     "data": {
      "image/png": "[encoded data removed]",
      "text/plain": [
       "<Figure size 432x288 with 1 Axes>"
      ]
     },
     "metadata": {
      "needs_background": "light"
     },
     "output_type": "display_data"
    },
    {
     "data": {
      "text/plain": [
       "<AxesSubplot:xlabel='Samples', ylabel='Counts'>"
      ]
     },
     "execution_count": 31,
     "metadata": {},
     "output_type": "execute_result"
    }
   ],
   "source": [
    "freq.plot()"
   ]
  },
  {
   "cell_type": "markdown",
   "id": "a675a439",
   "metadata": {},
   "source": [
    " ## Textblob"
   ]
  },
  {
   "cell_type": "code",
   "execution_count": 32,
   "id": "2320341f",
   "metadata": {},
   "outputs": [
    {
     "name": "stdout",
     "output_type": "stream",
     "text": [
      "Requirement already satisfied: textblob in c:\\users\\admin\\anaconda3\\lib\\site-packages (0.17.1)\n",
      "Requirement already satisfied: nltk>=3.1 in c:\\users\\admin\\anaconda3\\lib\\site-packages (from textblob) (3.6.1)\n",
      "Requirement already satisfied: click in c:\\users\\admin\\anaconda3\\lib\\site-packages (from nltk>=3.1->textblob) (7.1.2)\n",
      "Requirement already satisfied: joblib in c:\\users\\admin\\anaconda3\\lib\\site-packages (from nltk>=3.1->textblob) (1.0.1)\n",
      "Requirement already satisfied: regex in c:\\users\\admin\\anaconda3\\lib\\site-packages (from nltk>=3.1->textblob) (2021.4.4)\n",
      "Requirement already satisfied: tqdm in c:\\users\\admin\\anaconda3\\lib\\site-packages (from nltk>=3.1->textblob) (4.59.0)\n",
      "Finished."
     ]
    },
    {
     "name": "stderr",
     "output_type": "stream",
     "text": [
      "[nltk_data] Downloading package brown to\n",
      "[nltk_data]     C:\\Users\\admin\\AppData\\Roaming\\nltk_data...\n",
      "[nltk_data]   Package brown is already up-to-date!\n",
      "[nltk_data] Downloading package punkt to\n",
      "[nltk_data]     C:\\Users\\admin\\AppData\\Roaming\\nltk_data...\n",
      "[nltk_data]   Package punkt is already up-to-date!\n",
      "[nltk_data] Downloading package wordnet to\n",
      "[nltk_data]     C:\\Users\\admin\\AppData\\Roaming\\nltk_data...\n",
      "[nltk_data]   Package wordnet is already up-to-date!\n",
      "[nltk_data] Downloading package averaged_perceptron_tagger to\n",
      "[nltk_data]     C:\\Users\\admin\\AppData\\Roaming\\nltk_data...\n",
      "[nltk_data]   Package averaged_perceptron_tagger is already up-to-\n",
      "[nltk_data]       date!\n",
      "[nltk_data] Downloading package conll2000 to\n",
      "[nltk_data]     C:\\Users\\admin\\AppData\\Roaming\\nltk_data...\n",
      "[nltk_data]   Package conll2000 is already up-to-date!\n",
      "[nltk_data] Downloading package movie_reviews to\n",
      "[nltk_data]     C:\\Users\\admin\\AppData\\Roaming\\nltk_data...\n",
      "[nltk_data]   Package movie_reviews is already up-to-date!\n"
     ]
    },
    {
     "name": "stdout",
     "output_type": "stream",
     "text": [
      "\n"
     ]
    }
   ],
   "source": [
    "!pip install textblob\n",
    "!python -m textblob.download_corpora"
   ]
  },
  {
   "cell_type": "code",
   "execution_count": null,
   "id": "b8023637",
   "metadata": {},
   "outputs": [],
   "source": []
  }
 ],
 "metadata": {
  "kernelspec": {
   "display_name": "Python 3",
   "language": "python",
   "name": "python3"
  },
  "language_info": {
   "codemirror_mode": {
    "name": "ipython",
    "version": 3
   },
   "file_extension": ".py",
   "mimetype": "text/x-python",
   "name": "python",
   "nbconvert_exporter": "python",
   "pygments_lexer": "ipython3",
   "version": "3.8.8"
  }
 },
 "nbformat": 4,
 "nbformat_minor": 5
}

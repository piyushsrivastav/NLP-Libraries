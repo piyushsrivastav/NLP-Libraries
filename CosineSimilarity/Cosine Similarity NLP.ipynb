{
 "cells": [
  {
   "cell_type": "markdown",
   "id": "1d133be9",
   "metadata": {},
   "source": [
    "## Cosine Similarity in Natural Language Processing\n",
    "By Piyush Srivastava"
   ]
  },
  {
   "cell_type": "markdown",
   "id": "77c8cb18",
   "metadata": {},
   "source": [
    "- Vectors have both magnitude and direction. This means that we can find and measure the angle between two vectors and conclude if two vectors are similar or not.\n",
    "- We take the cosine measure of the angle between the vectors.\n",
    "- The value of cosine similarity always lies between the range -1 to +1. The value of +1 indicates that the vectors into consideration are perfectly similar. Whereas the value of -1 indicates that the vectors into consideration are perfectly dissimilar or opposite to each other."
   ]
  },
  {
   "cell_type": "markdown",
   "id": "b215ef67",
   "metadata": {},
   "source": [
    "### Between two vectors"
   ]
  },
  {
   "cell_type": "code",
   "execution_count": 1,
   "id": "5b4e5d6f",
   "metadata": {},
   "outputs": [],
   "source": [
    "import numpy as np\n",
    "import pandas as pd\n",
    "from sklearn.feature_extraction.text import CountVectorizer\n",
    "from sklearn.feature_extraction.text import TfidfVectorizer"
   ]
  },
  {
   "cell_type": "code",
   "execution_count": 3,
   "id": "bc2040f4",
   "metadata": {},
   "outputs": [],
   "source": [
    "def cosine_similarity(vector1, vector2):\n",
    "    vector1 = np.array(vector1)\n",
    "    vector2 = np.array(vector2)\n",
    "# we first take the dot products of the two vectors and then divide them by taking\n",
    "# the magnitudes of the vectors.\n",
    "    return np.dot(vector1, vector2) / (np.sqrt(np.sum(vector1**2)) * np.sqrt(np.sum(vector2**2)))"
   ]
  },
  {
   "cell_type": "markdown",
   "id": "82e1c6f8",
   "metadata": {},
   "source": [
    "Example. We take two arrays as vectors and try to find the cosine similarity between them."
   ]
  },
  {
   "cell_type": "code",
   "execution_count": 4,
   "id": "5d2b86a8",
   "metadata": {},
   "outputs": [
    {
     "name": "stdout",
     "output_type": "stream",
     "text": [
      "[6 0 4 6 3 9 8 7 5 6]\n",
      "[7 0 4 4 6 9 8 5 2 1]\n"
     ]
    }
   ],
   "source": [
    "d1 = (6,0,4,6,3,9,8,7,5,6)\n",
    "d2 = (7,0,4,4,6,9,8,5,2,1)\n",
    "d1 = np.array(d1)\n",
    "d2 = np.array(d2)\n",
    "print(d1)\n",
    "print(d2)"
   ]
  },
  {
   "cell_type": "code",
   "execution_count": 5,
   "id": "2f6a0390",
   "metadata": {},
   "outputs": [
    {
     "data": {
      "text/plain": [
       "0.923270487736007"
      ]
     },
     "execution_count": 5,
     "metadata": {},
     "output_type": "execute_result"
    }
   ],
   "source": [
    "cosine_similarity(d1, d2)"
   ]
  },
  {
   "cell_type": "markdown",
   "id": "21fd30b9",
   "metadata": {},
   "source": [
    "On observing the output we come to know that the two vectors are quite similar to each other. As we had seen in the theory, when the cosine similarity is close to 1 it means the two vectors are very similar."
   ]
  },
  {
   "cell_type": "markdown",
   "id": "8968fece",
   "metadata": {},
   "source": [
    "### Between documents in a corpus"
   ]
  },
  {
   "cell_type": "markdown",
   "id": "07d37b21",
   "metadata": {},
   "source": [
    "- The corpus text consists of three documents. The first and the second document belong to the same topic of Trigonometry. But the third one is of a random topic.\n",
    "\n",
    "- When we calculate the cosine similarity, we expect cosine similarity score to be higher for documents one and two and less for other combinations."
   ]
  },
  {
   "cell_type": "code",
   "execution_count": 6,
   "id": "038802e5",
   "metadata": {},
   "outputs": [],
   "source": [
    "text = (\"\"\" Trigonometry is a branch of mathematics that studies relationships between side lengths and angles of triangles The field emerged in the Hellenistic world during the 3rd century BC from applications\"\"\", \n",
    "        \"\"\" Driven by the demands of navigation and the growing need for accurate maps of large geographic areas trigonometry grew into a major branch of mathematics Bartholomaeus Pitiscus was the first\"\"\", \n",
    "        \"\"\" One of Los Angeles oldest continuing operating restaurants The Apple Pan is also notable as the basis for the popular Johnny Rockets restaurant chain Johnny Rockets founder Ronn Teitlebaum claimed\"\"\")"
   ]
  },
  {
   "cell_type": "code",
   "execution_count": 7,
   "id": "c221510e",
   "metadata": {},
   "outputs": [],
   "source": [
    "#  convert the corpus to a series object \n",
    "corpus = pd.Series(text)\n",
    "\n",
    "# Cosine Similarity Calculation\n",
    "def cosine_similarity(vector1, vector2):\n",
    "    vector1 = np.array(vector1)\n",
    "    vector2 = np.array(vector2)\n",
    "    return np.dot(vector1, vector2) / (np.sqrt(np.sum(vector1**2)) * np.sqrt(np.sum(vector2**2))) "
   ]
  },
  {
   "cell_type": "code",
   "execution_count": 8,
   "id": "f01cce8d",
   "metadata": {},
   "outputs": [],
   "source": [
    "# using the CountVectorizer \n",
    "vectorizer = CountVectorizer()\n",
    "bow_matrix = vectorizer.fit_transform(corpus)"
   ]
  },
  {
   "cell_type": "code",
   "execution_count": 9,
   "id": "f57841bb",
   "metadata": {},
   "outputs": [
    {
     "data": {
      "text/plain": [
       "['3rd',\n",
       " 'accurate',\n",
       " 'also',\n",
       " 'and',\n",
       " 'angeles',\n",
       " 'angles',\n",
       " 'apple',\n",
       " 'applications',\n",
       " 'areas',\n",
       " 'as',\n",
       " 'bartholomaeus',\n",
       " 'basis',\n",
       " 'bc',\n",
       " 'between',\n",
       " 'branch',\n",
       " 'by',\n",
       " 'century',\n",
       " 'chain',\n",
       " 'claimed',\n",
       " 'continuing',\n",
       " 'demands',\n",
       " 'driven',\n",
       " 'during',\n",
       " 'emerged',\n",
       " 'field',\n",
       " 'first',\n",
       " 'for',\n",
       " 'founder',\n",
       " 'from',\n",
       " 'geographic',\n",
       " 'grew',\n",
       " 'growing',\n",
       " 'hellenistic',\n",
       " 'in',\n",
       " 'into',\n",
       " 'is',\n",
       " 'johnny',\n",
       " 'large',\n",
       " 'lengths',\n",
       " 'los',\n",
       " 'major',\n",
       " 'maps',\n",
       " 'mathematics',\n",
       " 'navigation',\n",
       " 'need',\n",
       " 'notable',\n",
       " 'of',\n",
       " 'oldest',\n",
       " 'one',\n",
       " 'operating',\n",
       " 'pan',\n",
       " 'pitiscus',\n",
       " 'popular',\n",
       " 'relationships',\n",
       " 'restaurant',\n",
       " 'restaurants',\n",
       " 'rockets',\n",
       " 'ronn',\n",
       " 'side',\n",
       " 'studies',\n",
       " 'teitlebaum',\n",
       " 'that',\n",
       " 'the',\n",
       " 'triangles',\n",
       " 'trigonometry',\n",
       " 'was',\n",
       " 'world']"
      ]
     },
     "execution_count": 9,
     "metadata": {},
     "output_type": "execute_result"
    }
   ],
   "source": [
    "feature_names_count = vectorizer.get_feature_names()\n",
    "feature_names_count"
   ]
  },
  {
   "cell_type": "code",
   "execution_count": 10,
   "id": "8efa20fc",
   "metadata": {},
   "outputs": [
    {
     "data": {
      "text/plain": [
       "array([[1, 0, 0, 1, 0, 1, 0, 1, 0, 0, 0, 0, 1, 1, 1, 0, 1, 0, 0, 0, 0, 0,\n",
       "        1, 1, 1, 0, 0, 0, 1, 0, 0, 0, 1, 1, 0, 1, 0, 0, 1, 0, 0, 0, 1, 0,\n",
       "        0, 0, 2, 0, 0, 0, 0, 0, 0, 1, 0, 0, 0, 0, 1, 1, 0, 1, 3, 1, 1, 0,\n",
       "        1],\n",
       "       [0, 1, 0, 1, 0, 0, 0, 0, 1, 0, 1, 0, 0, 0, 1, 1, 0, 0, 0, 0, 1, 1,\n",
       "        0, 0, 0, 1, 1, 0, 0, 1, 1, 1, 0, 0, 1, 0, 0, 1, 0, 0, 1, 1, 1, 1,\n",
       "        1, 0, 3, 0, 0, 0, 0, 1, 0, 0, 0, 0, 0, 0, 0, 0, 0, 0, 3, 0, 1, 1,\n",
       "        0],\n",
       "       [0, 0, 1, 0, 1, 0, 1, 0, 0, 1, 0, 1, 0, 0, 0, 0, 0, 1, 1, 1, 0, 0,\n",
       "        0, 0, 0, 0, 1, 1, 0, 0, 0, 0, 0, 0, 0, 1, 2, 0, 0, 1, 0, 0, 0, 0,\n",
       "        0, 1, 1, 1, 1, 1, 1, 0, 1, 0, 1, 1, 2, 1, 0, 0, 1, 0, 3, 0, 0, 0,\n",
       "        0]], dtype=int64)"
      ]
     },
     "execution_count": 10,
     "metadata": {},
     "output_type": "execute_result"
    }
   ],
   "source": [
    "# mathematical representation of the three documents\n",
    "features_array_count = bow_matrix.toarray()\n",
    "features_array_count"
   ]
  },
  {
   "cell_type": "code",
   "execution_count": 11,
   "id": "1270d438",
   "metadata": {},
   "outputs": [
    {
     "data": {
      "text/plain": [
       "(3, 67)"
      ]
     },
     "execution_count": 11,
     "metadata": {},
     "output_type": "execute_result"
    }
   ],
   "source": [
    "bow_matrix.shape"
   ]
  },
  {
   "cell_type": "code",
   "execution_count": 12,
   "id": "02e4e051",
   "metadata": {},
   "outputs": [
    {
     "name": "stdout",
     "output_type": "stream",
     "text": [
      "The cosine similarity between the documents  0 and 1 is:  0.48782135766494206\n",
      "The cosine similarity between the documents  0 and 2 is:  0.3119251469460218\n",
      "The cosine similarity between the documents  1 and 2 is:  0.32101211891111664\n"
     ]
    }
   ],
   "source": [
    " # cosine similarity score for each document for every other document in the corpus\n",
    "for i in range(bow_matrix.shape[0]):\n",
    "    for j in range(i + 1, bow_matrix.shape[0]):\n",
    "        print(\"The cosine similarity between the documents \", i, \"and\", j, \"is: \",\n",
    "              cosine_similarity(bow_matrix.toarray()[i], bow_matrix.toarray()[j]))"
   ]
  },
  {
   "cell_type": "markdown",
   "id": "de0195b1",
   "metadata": {},
   "source": [
    "The output is just as we had expected it to be."
   ]
  }
 ],
 "metadata": {
  "kernelspec": {
   "display_name": "Python 3",
   "language": "python",
   "name": "python3"
  },
  "language_info": {
   "codemirror_mode": {
    "name": "ipython",
    "version": 3
   },
   "file_extension": ".py",
   "mimetype": "text/x-python",
   "name": "python",
   "nbconvert_exporter": "python",
   "pygments_lexer": "ipython3",
   "version": "3.8.8"
  }
 },
 "nbformat": 4,
 "nbformat_minor": 5
}
